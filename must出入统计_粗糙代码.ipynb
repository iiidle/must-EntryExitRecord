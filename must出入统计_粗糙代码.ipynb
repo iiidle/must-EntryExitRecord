{
 "cells": [
  {
   "cell_type": "code",
   "execution_count": 1,
   "metadata": {},
   "outputs": [],
   "source": [
    "## 使用tablua包读取pdf表格\n",
    "## 它的官网https://tabula-py.readthedocs.io/en/latest/\n",
    "## 安装 \n",
    "# !pip install tabula-py"
   ]
  },
  {
   "cell_type": "code",
   "execution_count": 2,
   "metadata": {},
   "outputs": [],
   "source": [
    "import os, tabula, itertools\n",
    "import numpy as np\n",
    "import pandas as pd"
   ]
  },
  {
   "cell_type": "code",
   "execution_count": 3,
   "metadata": {},
   "outputs": [],
   "source": [
    "def Str2TimeRange(timestr):\n",
    "    if \"-\" in timestr:\n",
    "        time_start, time_end = timestr.split('-')\n",
    "        return list(pd.date_range(start=time_start, end=time_end, freq = 'D'))\n",
    "    else:\n",
    "        return pd.to_datetime(timestr, format=\"%Y/%m/%d\")"
   ]
  },
  {
   "cell_type": "code",
   "execution_count": 4,
   "metadata": {},
   "outputs": [],
   "source": [
    "PdfFilePath = \"./E220809510428_出入境记录查询结果（电子文件）/48564c69e6d15eed649998176c4fa3de.pdf\"\n",
    "graduation_time = \"2022-8-31\""
   ]
  },
  {
   "cell_type": "code",
   "execution_count": 5,
   "metadata": {},
   "outputs": [],
   "source": [
    "# 每年需要更改这个部分\n",
    "# 时间表示 YY/MM/DD\n",
    "\n",
    "# 两个学期的上学时间\n",
    "School_Time = ['2020/09/14-2021/01/12', '2021/01/13-2021/06/02', '2021/09/01-2022/01/11', '2022/01/12-2022/05/31']\n",
    "\n",
    "# 第一学期 到 第四学期\n",
    "School_Time = list(map(lambda x: Str2TimeRange(x), School_Time))\n",
    "School_Time = [i for d in School_Time for i in d]\n",
    "\n",
    "# 节假日（不包括暑假，上面学期已经排除暑假）当然这里加入暑假也是不冲突的\n",
    "Holiday_Time = ['2020/10/1','2020/10/2','2020/10/25','2020/11/2', '2020/12/8', '2020/12/16-2020/12/27',\\\n",
    "    '2020/10/5','2020/10/26','2020/12/22','2020/12/31',\\\n",
    "    '2021/1/1','2021/2/3-2021/2/21','2021/4/2-2021/4/4','2021/5/1','2021/5/19','2021/6/14','2021/9/22',\\\n",
    "    '2021/10/1-2021/10/2', '2021/10/14','2021/11/2','2021/12/8','2021/12/17-2021/12/26',\\\n",
    "    '2021/2/11','2021/2/15-2021/2/16', '2021/4/5-2021/4/6','2021/5/3','2021/10/4','2021/12/27','2021/12/31',\\\n",
    "    '2022/1/1','2022/1/26-2022/2/13','2022/4/5','2022/4/15','2022/4/16','2022/5/1','2022/5/8','2022/6/3',\\\n",
    "    '2022/1/3','2022/1/31','2022/4/18','2022/5/2','2022/5/9']\n",
    "\n",
    "Holiday_Time_sum = list(map(lambda x: Str2TimeRange(x), Holiday_Time))\n",
    "Holiday_Time = []\n",
    "for i in Holiday_Time_sum:\n",
    "    if type(i) == list:\n",
    "        Holiday_Time += i\n",
    "    else:\n",
    "        Holiday_Time.append(i)"
   ]
  },
  {
   "cell_type": "code",
   "execution_count": 6,
   "metadata": {},
   "outputs": [],
   "source": [
    "# 使用tabula识别pdf的日期\n",
    "# PdfFilePath 是放记录查询路径\n",
    "df_list = tabula.read_pdf(PdfFilePath, pages = 'all', silent=True)\n",
    "\n",
    "# 将读取的结果汇总一个list\n",
    "df_sum = pd.DataFrame()\n",
    "for df in df_list:\n",
    "    if not len(df_sum):\n",
    "        df_sum = df\n",
    "    else:\n",
    "        df_sum = pd.concat([df_sum, pd.DataFrame([list(df.columns)], columns = df_sum.columns)], axis = 0, ignore_index= True)\n",
    "\n",
    "        df.columns = df_sum.columns\n",
    "        df_sum = pd.concat([df_sum, df], axis = 0, ignore_index = True)"
   ]
  },
  {
   "cell_type": "code",
   "execution_count": 7,
   "metadata": {},
   "outputs": [],
   "source": [
    "df_sum = df_sum.drop(['序号', '证件名称', '证件号码', '航班号'], axis = 1) \n",
    "df_sum['出入境日期'] = pd.to_datetime(df_sum['出入境日期'], format='%Y-%m-%d')\n",
    "# 表格倒序排列\n",
    "df_sum = df_sum.iloc[::-1, :] \n",
    "# 出入记录表读取好了"
   ]
  },
  {
   "cell_type": "code",
   "execution_count": 8,
   "metadata": {},
   "outputs": [],
   "source": [
    "Total_time = pd.DataFrame(index = pd.date_range(start=School_Time[0], end = graduation_time, freq= 'D'), columns=['是否已经出境', '是否就读期间', '是否非周末', '是否非假期','排除节假日是否出境'])\n",
    "\n",
    "# 是否已经出入境 NAN 表示已经入境\n",
    "for start_index in range(0, len(df_sum), 2):\n",
    "    start_time, end_time = df_sum.iloc[start_index, 1], df_sum.iloc[start_index+1, 1]\n",
    "    if end_time.date() < School_Time[0].date() or start_time.date() > pd.to_datetime(graduation_time).date():\n",
    "        continue\n",
    "    start_time = max(start_time.date(), School_Time[0].date())\n",
    "    end_time = min(end_time, pd.to_datetime(graduation_time))\n",
    "    Total_time.loc[pd.date_range(start=start_time, end = end_time, freq= 'D'), '是否已经出境'] = True\n",
    "\n",
    "# 是否就读期间 因为会有包括第二个学年结束 寒暑假 所以这里需要表示一下\n",
    "Total_time.loc[School_Time, '是否就读期间'] = True\n",
    "\n",
    "# 是否周末\n",
    "Total_time.loc[list(map(lambda x: x.weekday() in [0,1,2,3,4],Total_time.index)),'是否非周末'] = True\n",
    "\n",
    "# 是否非假日\n",
    "Total_time.loc[Holiday_Time, '是否非假期'] = False\n",
    "\n",
    "# 填充值\n",
    "Total_time['是否非假期'] = Total_time['是否非假期'].fillna(True)\n",
    "Total_time[['是否已经出境', '是否就读期间', '是否非周末']] = Total_time[['是否已经出境', '是否就读期间', '是否非周末']].fillna(False)\n",
    "\n",
    "Total_time['排除节假日是否出境'] = Total_time[['是否已经出境', '是否就读期间', '是否非周末', '是否非假期']].all(axis='columns')"
   ]
  },
  {
   "cell_type": "code",
   "execution_count": 9,
   "metadata": {},
   "outputs": [
    {
     "name": "stdout",
     "output_type": "stream",
     "text": [
      "就读期间在澳门逗留总天数:308\n",
      "扣除周末、寒暑假及公共假期后在澳门逗留总天数:208\n"
     ]
    }
   ],
   "source": [
    "print(\"就读期间在澳门逗留总天数:{}\".format(Total_time['是否已经出境'].sum()))\n",
    "print(\"扣除周末、寒暑假及公共假期后在澳门逗留总天数:{}\".format(Total_time['排除节假日是否出境'].sum()))"
   ]
  },
  {
   "cell_type": "code",
   "execution_count": 10,
   "metadata": {},
   "outputs": [],
   "source": [
    "def color_boolean(val):\n",
    "    color =''\n",
    "    if val == True:\n",
    "        color = '#5FFE82'\n",
    "    elif val == False:\n",
    "        color = '#FE825F'\n",
    "    return 'background-color: %s' % color\n",
    "    \n",
    "Total_time_style = Total_time.style.applymap(color_boolean)\n",
    "\n",
    "Total_time_style.to_excel('record.xlsx', engine = 'openpyxl', encoding='utf-8-sig')"
   ]
  }
 ],
 "metadata": {
  "kernelspec": {
   "display_name": "Python 3.9.0 ('TDdata')",
   "language": "python",
   "name": "python3"
  },
  "language_info": {
   "codemirror_mode": {
    "name": "ipython",
    "version": 3
   },
   "file_extension": ".py",
   "mimetype": "text/x-python",
   "name": "python",
   "nbconvert_exporter": "python",
   "pygments_lexer": "ipython3",
   "version": "3.9.0"
  },
  "orig_nbformat": 4,
  "vscode": {
   "interpreter": {
    "hash": "25e3a8ffff1ea70d477a14ecfa560a22ca00779c6a5b055418fa4508ef59693e"
   }
  }
 },
 "nbformat": 4,
 "nbformat_minor": 2
}
